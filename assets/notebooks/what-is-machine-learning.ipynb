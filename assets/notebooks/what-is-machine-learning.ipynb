{
 "cells": [
  {
   "cell_type": "code",
   "execution_count": 1,
   "metadata": {
    "collapsed": true
   },
   "outputs": [],
   "source": [
    "import numpy as np\n",
    "import matplotlib.pyplot as plt\n",
    "\n",
    "%matplotlib inline\n",
    "%load_ext autoreload\n",
    "%autoreload 2"
   ]
  },
  {
   "cell_type": "code",
   "execution_count": 2,
   "metadata": {},
   "outputs": [
    {
     "data": {
      "text/plain": [
       "<matplotlib.text.Text at 0x10c1a44a8>"
      ]
     },
     "execution_count": 2,
     "metadata": {},
     "output_type": "execute_result"
    },
    {
     "data": {
      "image/png": "[encoded data removed]",
      "text/plain": [
       "<matplotlib.figure.Figure at 0x10c171048>"
      ]
     },
     "metadata": {},
     "output_type": "display_data"
    }
   ],
   "source": [
    "X = np.array([[29, 56],\n",
    "                     [64, 89],\n",
    "                     [33, 17],\n",
    "                     [45, 94], \n",
    "                     [24, 26],\n",
    "                     [55, 24],\n",
    "                     [35, 52],\n",
    "                     [57, 65],\n",
    "                     [45, 32],\n",
    "                     [52, 75],\n",
    "                     [62, 31]], dtype=np.float)\n",
    "y = np.array([1, 1, 0, 1, 0, 0, 1, 1, 0, 1, 0], dtype=np.uint)\n",
    "\n",
    "plt.figure(figsize=(8, 8))\n",
    "# plt.scatter(X[:, 0], X[:, 1])\n",
    "for i in range(X.shape[0]):\n",
    "    plt.text(X[i, 0], X[i, 1], 'X' if y[i] == 0 else 'O',\n",
    "                 color='r' if y[i] == 0 else 'b',\n",
    "                 fontdict={'weight': 'bold', 'size': 9})\n",
    "plt.xlim(15, 75),\n",
    "plt.ylim(15, 100)\n",
    "plt.xlabel('X1')\n",
    "plt.ylabel('X2')"
   ]
  },
  {
   "cell_type": "code",
   "execution_count": null,
   "metadata": {
    "collapsed": true
   },
   "outputs": [],
   "source": []
  }
 ],
 "metadata": {
  "kernelspec": {
   "display_name": "Python 3",
   "language": "python",
   "name": "python3"
  },
  "language_info": {
   "codemirror_mode": {
    "name": "ipython",
    "version": 3
   },
   "file_extension": ".py",
   "mimetype": "text/x-python",
   "name": "python",
   "nbconvert_exporter": "python",
   "pygments_lexer": "ipython3",
   "version": "3.5.4"
  }
 },
 "nbformat": 4,
 "nbformat_minor": 2
}
